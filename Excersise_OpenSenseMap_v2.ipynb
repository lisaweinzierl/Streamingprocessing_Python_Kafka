{
 "cells": [
  {
   "cell_type": "markdown",
   "metadata": {},
   "source": [
    "# Watch out open-source sensor data:\n",
    "Search for a Sensor in your neighbourhood: https://opensensemap.org/\n",
    "\n",
    "# How to use sensor-map API:\n",
    "\n",
    "## Vocabulary:\n",
    "\n",
    "Link for documentation: https://docs.opensensemap.org/\n",
    "\n",
    "Documentation of the routes and methods \n",
    "- stations: called boxes or senseBoxes\n",
    "- measurements in the openSenseMap API\n",
    "\n",
    "You can find the API running at https://api.opensensemap.org/\n",
    "\n",
    "Requests assume the payload encoded as JSON\n",
    "Parameters prepended with a colon (:) are parameters which should be specified through the URL <br> --> similar to pyhton-dictionnaries\n",
    "\n",
    "## API methods:\n",
    "- get: https://api.opensensemap.org/boxes/:senseBoxId?format=:format\n",
    "adjust format to json or geojson\n",
    "- post: https://api.opensensemap.org/boxes/:senseBoxId/:sensorId\n",
    "- put: https://api.opensensemap.org/users/me\n",
    "- delete: https://api.opensensemap.org/boxes/:senseBoxId\n"
   ]
  },
  {
   "cell_type": "code",
   "execution_count": 1,
   "metadata": {},
   "outputs": [],
   "source": [
    "# importing packages\n",
    "import requests\n",
    "import time\n",
    "import json\n",
    "import datetime"
   ]
  },
  {
   "cell_type": "code",
   "execution_count": 2,
   "metadata": {},
   "outputs": [],
   "source": [
    "#choose one sensor-id\n",
    "senseBoxId = \"5a99c5a8bc2d410019cb8261\"\n",
    "\n",
    "url_general = \"https://api.opensensemap.org/boxes/\" + senseBoxId + \"?format=json\"\n",
    "\n",
    "url_senseBox = url_general"
   ]
  },
  {
   "cell_type": "code",
   "execution_count": 3,
   "metadata": {},
   "outputs": [
    {
     "name": "stdout",
     "output_type": "stream",
     "text": [
      "{\"_id\":\"5a99c5a8bc2d410019cb8261\",\"createdAt\":\"2018-03-02T21:44:08.733Z\",\"updatedAt\":\"2020-04-29T16:05:04.421Z\",\"name\":\"Airrohr-1769933\",\"currentLocation\":{\"timestamp\":\"2018-03-02T21:44:08.730Z\",\"coordinates\":[9.175632,48.769373],\"type\":\"Point\"},\"grouptag\":\"Airrohr\",\"exposure\":\"outdoor\",\"sensors\":[{\"title\":\"PM10\",\"unit\":\"µg/m³\",\"sensorType\":\"SDS 011\",\"icon\":\"osem-cloud\",\"_id\":\"5a99c5a8bc2d410019cb8265\",\"lastMeasurement\":{\"value\":\"6.53\",\"createdAt\":\"2020-04-29T16:05:04.406Z\"}},{\"title\":\"PM2.5\",\"unit\":\"µg/m³\",\"sensorType\":\"SDS 011\",\"icon\":\"osem-cloud\",\"_id\":\"5a99c5a8bc2d410019cb8264\",\"lastMeasurement\":{\"value\":\"2.10\",\"createdAt\":\"2020-04-29T16:05:04.406Z\"}},{\"title\":\"Temperatur\",\"unit\":\"°C\",\"sensorType\":\"DHT22\",\"icon\":\"osem-thermometer\",\"_id\":\"5a99c5a8bc2d410019cb8263\",\"lastMeasurement\":{\"value\":\"19.40\",\"createdAt\":\"2020-04-29T16:05:04.406Z\"}},{\"title\":\"rel. Luftfeuchte\",\"unit\":\"%\",\"sensorType\":\"DHT22\",\"icon\":\"osem-humidity\",\"_id\":\"5a99c5a8bc2d410019cb8262\",\"lastMeasurement\":{\"value\":\"23.00\",\"createdAt\":\"2020-04-29T16:05:04.406Z\"}}],\"model\":\"luftdaten_sds011_dht22\",\"lastMeasurementAt\":\"2020-04-29T16:05:04.406Z\",\"loc\":[{\"geometry\":{\"timestamp\":\"2018-03-02T21:44:08.730Z\",\"coordinates\":[9.175632,48.769373],\"type\":\"Point\"},\"type\":\"Feature\"}]}\n"
     ]
    },
    {
     "ename": "TypeError",
     "evalue": "string indices must be integers",
     "output_type": "error",
     "traceback": [
      "\u001b[1;31m---------------------------------------------------------------------------\u001b[0m",
      "\u001b[1;31mTypeError\u001b[0m                                 Traceback (most recent call last)",
      "\u001b[1;32m<ipython-input-3-4306de13e527>\u001b[0m in \u001b[0;36m<module>\u001b[1;34m\u001b[0m\n\u001b[0;32m      3\u001b[0m \u001b[0mstatic_data\u001b[0m \u001b[1;33m=\u001b[0m \u001b[0mrequests\u001b[0m\u001b[1;33m.\u001b[0m\u001b[0mget\u001b[0m\u001b[1;33m(\u001b[0m\u001b[0murl_senseBox\u001b[0m\u001b[1;33m)\u001b[0m\u001b[1;33m.\u001b[0m\u001b[0mtext\u001b[0m\u001b[1;33m\u001b[0m\u001b[1;33m\u001b[0m\u001b[0m\n\u001b[0;32m      4\u001b[0m \u001b[0mprint\u001b[0m\u001b[1;33m(\u001b[0m\u001b[0mstatic_data\u001b[0m\u001b[1;33m)\u001b[0m\u001b[1;33m\u001b[0m\u001b[1;33m\u001b[0m\u001b[0m\n\u001b[1;32m----> 5\u001b[1;33m \u001b[0mstatic_data\u001b[0m\u001b[1;33m[\u001b[0m\u001b[1;34m'_id'\u001b[0m\u001b[1;33m]\u001b[0m\u001b[1;33m\u001b[0m\u001b[1;33m\u001b[0m\u001b[0m\n\u001b[0m",
      "\u001b[1;31mTypeError\u001b[0m: string indices must be integers"
     ]
    }
   ],
   "source": [
    "# send http request and get json data back\n",
    "\n",
    "static_data = requests.get(url_senseBox).text\n",
    "print(static_data)\n",
    "static_data['_id']"
   ]
  },
  {
   "cell_type": "code",
   "execution_count": null,
   "metadata": {},
   "outputs": [],
   "source": [
    "# transform json data to a pyhton-dictionary so that you can address every element\n",
    "\n",
    "full_data = json.loads(static_data)\n",
    "print(full_data)\n",
    "full_data['_id']"
   ]
  },
  {
   "cell_type": "code",
   "execution_count": null,
   "metadata": {},
   "outputs": [],
   "source": [
    "all_sensors_in_box = full_data['sensors']\n",
    "temp_sensor = all_sensors_in_box[2]\n",
    "PM10_sensor = all_sensors_in_box[0]\n",
    "PM2_sensor = all_sensors_in_box[1]\n",
    "\n",
    "print(temp_sensor)\n",
    "#print(PM10_sensor)\n",
    "#print(PM2_sensor)\n"
   ]
  },
  {
   "cell_type": "code",
   "execution_count": null,
   "metadata": {},
   "outputs": [],
   "source": [
    "lastMeasurementValue = temp_sensor[\"lastMeasurement\"][\"value\"]\n",
    "lastMeasurementDate = temp_sensor[\"lastMeasurement\"][\"createdAt\"]\n",
    "print(lastMeasurementValue)\n",
    "print(lastMeasurementDate)"
   ]
  },
  {
   "cell_type": "code",
   "execution_count": null,
   "metadata": {},
   "outputs": [],
   "source": [
    "type(lastMeasurementDate)"
   ]
  },
  {
   "cell_type": "code",
   "execution_count": null,
   "metadata": {},
   "outputs": [],
   "source": [
    "#transformation into datetime object\n",
    "date_time = datetime.datetime.strptime(lastMeasurementDate, '%Y-%m-%dT%H:%M:%S.%fZ')\n",
    "print(date_time_obj)"
   ]
  },
  {
   "cell_type": "code",
   "execution_count": null,
   "metadata": {},
   "outputs": [],
   "source": [
    "type(date_time_obj)"
   ]
  },
  {
   "cell_type": "code",
   "execution_count": null,
   "metadata": {},
   "outputs": [],
   "source": [
    "print(\"Last Measurement: when?  \" + lastMeasurementDate + \"  what?  \" + lastMeasurementValue + temp_sensor[\"unit\"])"
   ]
  },
  {
   "cell_type": "code",
   "execution_count": 5,
   "metadata": {},
   "outputs": [
    {
     "name": "stdout",
     "output_type": "stream",
     "text": [
      "Last Measurement: when?  2020-04-29 16:10:06.513000  what?  19.10°C\n",
      "Last Measurement: when?  2020-04-29 16:10:06.513000  what?  19.10°C\n",
      "Last Measurement: when?  2020-04-29 16:10:06.513000  what?  19.10°C\n",
      "Last Measurement: when?  2020-04-29 16:10:06.513000  what?  19.10°C\n",
      "Last Measurement: when?  2020-04-29 16:10:06.513000  what?  19.10°C\n",
      "Last Measurement: when?  2020-04-29 16:10:06.513000  what?  19.10°C\n",
      "Last Measurement: when?  2020-04-29 16:10:06.513000  what?  19.10°C\n",
      "Last Measurement: when?  2020-04-29 16:10:06.513000  what?  19.10°C\n",
      "Last Measurement: when?  2020-04-29 16:10:06.513000  what?  19.10°C\n",
      "Last Measurement: when?  2020-04-29 16:10:06.513000  what?  19.10°C\n"
     ]
    }
   ],
   "source": [
    "#combine everything with a loop e.g. while\n",
    "i = 0\n",
    "\n",
    "while i < 10:\n",
    "    \n",
    "    senseBoxId = \"5a99c5a8bc2d410019cb8261\"\n",
    "    url_general = \"https://api.opensensemap.org/boxes/\" + senseBoxId + \"?format=json\"\n",
    "    url_senseBox = url_general\n",
    "    static_data = requests.get(url_senseBox).text\n",
    "    full_data = json.loads(static_data)\n",
    "    all_sensors_in_box = full_data['sensors']\n",
    "    temp_sensor = all_sensors_in_box[2]\n",
    "    \n",
    "    lastMeasurementValue = temp_sensor[\"lastMeasurement\"][\"value\"]\n",
    "    lastMeasurementDate = temp_sensor[\"lastMeasurement\"][\"createdAt\"]\n",
    "    date_time = datetime.datetime.strptime(lastMeasurementDate, '%Y-%m-%dT%H:%M:%S.%fZ')\n",
    "    print(\"Last Measurement: when?  \" + str(date_time) + \"  what?  \" + lastMeasurementValue + temp_sensor[\"unit\"])\n",
    "    \n",
    "    i += 1\n",
    "    time.sleep(1)\n"
   ]
  },
  {
   "cell_type": "code",
   "execution_count": 4,
   "metadata": {},
   "outputs": [
    {
     "name": "stdout",
     "output_type": "stream",
     "text": [
      "Last Measurement: when?  2020-04-29 16:10:06.513000  what?  19.10°C\n",
      "Last Measurement: when?  2020-04-29 16:10:06.513000  what?  19.10°C\n",
      "Last Measurement: when?  2020-04-29 16:10:06.513000  what?  19.10°C\n",
      "Last Measurement: when?  2020-04-29 16:10:06.513000  what?  19.10°C\n",
      "Last Measurement: when?  2020-04-29 16:10:06.513000  what?  19.10°C\n",
      "Last Measurement: when?  2020-04-29 16:10:06.513000  what?  19.10°C\n",
      "Last Measurement: when?  2020-04-29 16:10:06.513000  what?  19.10°C\n",
      "Last Measurement: when?  2020-04-29 16:10:06.513000  what?  19.10°C\n",
      "Last Measurement: when?  2020-04-29 16:10:06.513000  what?  19.10°C\n",
      "Last Measurement: when?  2020-04-29 16:10:06.513000  what?  19.10°C\n"
     ]
    }
   ],
   "source": [
    "# if website goes down, make sure you considered some exeptions\n",
    "\n",
    "i = 0\n",
    "\n",
    "while i < 10:\n",
    "    try: \n",
    "        senseBoxId = \"5a99c5a8bc2d410019cb8261\"\n",
    "        url_general = \"https://api.opensensemap.org/boxes/\" + senseBoxId + \"?format=json\"\n",
    "        url_senseBox = url_general\n",
    "        static_data = requests.get(url_senseBox).text\n",
    "        full_data = json.loads(static_data)\n",
    "        all_sensors_in_box = full_data['sensors']\n",
    "        temp_sensor = all_sensors_in_box[2]\n",
    "\n",
    "        lastMeasurementValue = temp_sensor[\"lastMeasurement\"][\"value\"]\n",
    "        lastMeasurementDate = temp_sensor[\"lastMeasurement\"][\"createdAt\"]\n",
    "        date_time = datetime.datetime.strptime(lastMeasurementDate, '%Y-%m-%dT%H:%M:%S.%fZ')\n",
    "        print(\"Last Measurement: when?  \" + str(date_time) + \"  what?  \" + lastMeasurementValue + temp_sensor[\"unit\"])\n",
    "    \n",
    "    except:\n",
    "        print(\"Error occured!\")\n",
    "        \n",
    "    i += 1\n",
    "    time.sleep(1)     \n"
   ]
  }
 ],
 "metadata": {
  "kernelspec": {
   "display_name": "Python 3",
   "language": "python",
   "name": "python3"
  },
  "language_info": {
   "codemirror_mode": {
    "name": "ipython",
    "version": 3
   },
   "file_extension": ".py",
   "mimetype": "text/x-python",
   "name": "python",
   "nbconvert_exporter": "python",
   "pygments_lexer": "ipython3",
   "version": "3.7.6"
  }
 },
 "nbformat": 4,
 "nbformat_minor": 4
}
