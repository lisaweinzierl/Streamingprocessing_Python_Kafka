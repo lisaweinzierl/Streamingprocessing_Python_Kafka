{
 "cells": [
  {
   "cell_type": "markdown",
   "metadata": {},
   "source": [
    "# Watch out open-source sensor data:\n",
    "Search for a Sensor in your neighbourhood: https://opensensemap.org/\n",
    "\n",
    "# How to use sensor-map API:\n",
    "\n",
    "## Vocabulary:\n",
    "\n",
    "Link for documentation: https://docs.opensensemap.org/\n",
    "\n",
    "Documentation of the routes and methods \n",
    "- stations: called boxes or senseBoxes\n",
    "- measurements in the openSenseMap API\n",
    "\n",
    "You can find the API running at https://api.opensensemap.org/\n",
    "\n",
    "Requests assume the payload encoded as JSON\n",
    "Parameters prepended with a colon (:) are parameters which should be specified through the URL <br> --> similar to pyhton-dictionnaries\n",
    "\n",
    "## API methods:\n",
    "- get: https://api.opensensemap.org/boxes/:senseBoxId?format=:format\n",
    "adjust format to json or geojson\n",
    "- post: https://api.opensensemap.org/boxes/:senseBoxId/:sensorId\n",
    "- put: https://api.opensensemap.org/users/me\n",
    "- delete: https://api.opensensemap.org/boxes/:senseBoxId\n"
   ]
  },
  {
   "cell_type": "code",
   "execution_count": 5,
   "metadata": {},
   "outputs": [],
   "source": [
    "# importing packages\n",
    "import requests\n",
    "import time\n",
    "import json\n",
    "import datetime"
   ]
  },
  {
   "cell_type": "code",
   "execution_count": 6,
   "metadata": {},
   "outputs": [],
   "source": [
    "#choose one sensor-id\n",
    "senseBoxId = \"5a99c5a8bc2d410019cb8261\"\n",
    "\n",
    "url_general = \"https://api.opensensemap.org/boxes/\" + senseBoxId + \"?format=json\"\n",
    "\n",
    "url_senseBox = url_general"
   ]
  },
  {
   "cell_type": "code",
   "execution_count": 20,
   "metadata": {},
   "outputs": [
    {
     "name": "stdout",
     "output_type": "stream",
     "text": [
      "{\"_id\":\"5a99c5a8bc2d410019cb8261\",\"createdAt\":\"2018-03-02T21:44:08.733Z\",\"updatedAt\":\"2020-05-25T10:05:27.945Z\",\"name\":\"Airrohr-1769933\",\"currentLocation\":{\"timestamp\":\"2018-03-02T21:44:08.730Z\",\"coordinates\":[9.175632,48.769373],\"type\":\"Point\"},\"grouptag\":\"Airrohr\",\"exposure\":\"outdoor\",\"sensors\":[{\"title\":\"PM10\",\"unit\":\"µg/m³\",\"sensorType\":\"SDS 011\",\"icon\":\"osem-cloud\",\"_id\":\"5a99c5a8bc2d410019cb8265\",\"lastMeasurement\":{\"value\":\"7.53\",\"createdAt\":\"2020-05-25T10:05:27.937Z\"}},{\"title\":\"PM2.5\",\"unit\":\"µg/m³\",\"sensorType\":\"SDS 011\",\"icon\":\"osem-cloud\",\"_id\":\"5a99c5a8bc2d410019cb8264\",\"lastMeasurement\":{\"value\":\"4.03\",\"createdAt\":\"2020-05-25T10:05:27.937Z\"}},{\"title\":\"Temperatur\",\"unit\":\"°C\",\"sensorType\":\"DHT22\",\"icon\":\"osem-thermometer\",\"_id\":\"5a99c5a8bc2d410019cb8263\",\"lastMeasurement\":{\"value\":\"16.70\",\"createdAt\":\"2020-05-25T10:05:27.937Z\"}},{\"title\":\"rel. Luftfeuchte\",\"unit\":\"%\",\"sensorType\":\"DHT22\",\"icon\":\"osem-humidity\",\"_id\":\"5a99c5a8bc2d410019cb8262\",\"lastMeasurement\":{\"value\":\"42.50\",\"createdAt\":\"2020-05-25T10:05:27.937Z\"}}],\"model\":\"luftdaten_sds011_dht22\",\"lastMeasurementAt\":\"2020-05-25T10:05:27.937Z\",\"loc\":[{\"geometry\":{\"timestamp\":\"2018-03-02T21:44:08.730Z\",\"coordinates\":[9.175632,48.769373],\"type\":\"Point\"},\"type\":\"Feature\"}]}\n"
     ]
    },
    {
     "ename": "TypeError",
     "evalue": "string indices must be integers",
     "output_type": "error",
     "traceback": [
      "\u001b[1;31m---------------------------------------------------------------------------\u001b[0m",
      "\u001b[1;31mTypeError\u001b[0m                                 Traceback (most recent call last)",
      "\u001b[1;32m<ipython-input-20-6478b3ca51f4>\u001b[0m in \u001b[0;36m<module>\u001b[1;34m\u001b[0m\n\u001b[0;32m      4\u001b[0m \u001b[0mprint\u001b[0m\u001b[1;33m(\u001b[0m\u001b[0mstatic_data\u001b[0m\u001b[1;33m)\u001b[0m\u001b[1;33m\u001b[0m\u001b[1;33m\u001b[0m\u001b[0m\n\u001b[0;32m      5\u001b[0m \u001b[1;31m#does not work yet\u001b[0m\u001b[1;33m\u001b[0m\u001b[1;33m\u001b[0m\u001b[1;33m\u001b[0m\u001b[0m\n\u001b[1;32m----> 6\u001b[1;33m \u001b[0mstatic_data\u001b[0m\u001b[1;33m[\u001b[0m\u001b[1;34m'_id'\u001b[0m\u001b[1;33m]\u001b[0m\u001b[1;33m\u001b[0m\u001b[1;33m\u001b[0m\u001b[0m\n\u001b[0m",
      "\u001b[1;31mTypeError\u001b[0m: string indices must be integers"
     ]
    }
   ],
   "source": [
    "# send http request and get json data back\n",
    "\n",
    "static_data = requests.get(url_senseBox).text\n",
    "print(static_data)\n",
    "#does not work yet\n",
    "static_data['_id']"
   ]
  },
  {
   "cell_type": "code",
   "execution_count": 18,
   "metadata": {},
   "outputs": [
    {
     "name": "stdout",
     "output_type": "stream",
     "text": [
      "{'_id': '5a99c5a8bc2d410019cb8261', 'createdAt': '2018-03-02T21:44:08.733Z', 'updatedAt': '2020-05-25T10:02:57.300Z', 'name': 'Airrohr-1769933', 'currentLocation': {'timestamp': '2018-03-02T21:44:08.730Z', 'coordinates': [9.175632, 48.769373], 'type': 'Point'}, 'grouptag': 'Airrohr', 'exposure': 'outdoor', 'sensors': [{'title': 'PM10', 'unit': 'µg/m³', 'sensorType': 'SDS 011', 'icon': 'osem-cloud', '_id': '5a99c5a8bc2d410019cb8265', 'lastMeasurement': {'value': '8.77', 'createdAt': '2020-05-25T10:02:57.293Z'}}, {'title': 'PM2.5', 'unit': 'µg/m³', 'sensorType': 'SDS 011', 'icon': 'osem-cloud', '_id': '5a99c5a8bc2d410019cb8264', 'lastMeasurement': {'value': '4.50', 'createdAt': '2020-05-25T10:02:57.293Z'}}, {'title': 'Temperatur', 'unit': '°C', 'sensorType': 'DHT22', 'icon': 'osem-thermometer', '_id': '5a99c5a8bc2d410019cb8263', 'lastMeasurement': {'value': '16.70', 'createdAt': '2020-05-25T10:02:57.293Z'}}, {'title': 'rel. Luftfeuchte', 'unit': '%', 'sensorType': 'DHT22', 'icon': 'osem-humidity', '_id': '5a99c5a8bc2d410019cb8262', 'lastMeasurement': {'value': '41.80', 'createdAt': '2020-05-25T10:02:57.293Z'}}], 'model': 'luftdaten_sds011_dht22', 'lastMeasurementAt': '2020-05-25T10:02:57.293Z', 'loc': [{'geometry': {'timestamp': '2018-03-02T21:44:08.730Z', 'coordinates': [9.175632, 48.769373], 'type': 'Point'}, 'type': 'Feature'}]}\n"
     ]
    },
    {
     "data": {
      "text/plain": [
       "'5a99c5a8bc2d410019cb8261'"
      ]
     },
     "execution_count": 18,
     "metadata": {},
     "output_type": "execute_result"
    }
   ],
   "source": [
    "# transform json data to a pyhton-dictionary so that you can address every element\n",
    "\n",
    "full_data = json.loads(static_data)\n",
    "print(full_data)\n",
    "full_data['_id']"
   ]
  },
  {
   "cell_type": "code",
   "execution_count": 23,
   "metadata": {},
   "outputs": [
    {
     "name": "stdout",
     "output_type": "stream",
     "text": [
      "{'title': 'Temperatur', 'unit': '°C', 'sensorType': 'DHT22', 'icon': 'osem-thermometer', '_id': '5a99c5a8bc2d410019cb8263', 'lastMeasurement': {'value': '16.70', 'createdAt': '2020-05-25T10:02:57.293Z'}}\n",
      "{'title': 'PM10', 'unit': 'µg/m³', 'sensorType': 'SDS 011', 'icon': 'osem-cloud', '_id': '5a99c5a8bc2d410019cb8265', 'lastMeasurement': {'value': '8.77', 'createdAt': '2020-05-25T10:02:57.293Z'}}\n",
      "{'title': 'PM2.5', 'unit': 'µg/m³', 'sensorType': 'SDS 011', 'icon': 'osem-cloud', '_id': '5a99c5a8bc2d410019cb8264', 'lastMeasurement': {'value': '4.50', 'createdAt': '2020-05-25T10:02:57.293Z'}}\n"
     ]
    }
   ],
   "source": [
    "#in one sensorbox are more than one sensors\n",
    "all_sensors_in_box = full_data['sensors']\n",
    "temp_sensor = all_sensors_in_box[2]\n",
    "PM10_sensor = all_sensors_in_box[0]\n",
    "PM2_sensor = all_sensors_in_box[1]\n",
    "\n",
    "print(temp_sensor)\n",
    "print(PM10_sensor)\n",
    "print(PM2_sensor)"
   ]
  },
  {
   "cell_type": "code",
   "execution_count": 24,
   "metadata": {},
   "outputs": [
    {
     "name": "stdout",
     "output_type": "stream",
     "text": [
      "16.70\n",
      "2020-05-25T10:02:57.293Z\n"
     ]
    }
   ],
   "source": [
    "lastMeasurementValue = temp_sensor[\"lastMeasurement\"][\"value\"]\n",
    "lastMeasurementDate = temp_sensor[\"lastMeasurement\"][\"createdAt\"]\n",
    "print(lastMeasurementValue)\n",
    "print(lastMeasurementDate)"
   ]
  },
  {
   "cell_type": "code",
   "execution_count": 25,
   "metadata": {},
   "outputs": [
    {
     "data": {
      "text/plain": [
       "str"
      ]
     },
     "execution_count": 25,
     "metadata": {},
     "output_type": "execute_result"
    }
   ],
   "source": [
    "#check for object type\n",
    "type(lastMeasurementDate)"
   ]
  },
  {
   "cell_type": "code",
   "execution_count": 27,
   "metadata": {},
   "outputs": [
    {
     "name": "stdout",
     "output_type": "stream",
     "text": [
      "2020-05-25 10:02:57.293000\n"
     ]
    }
   ],
   "source": [
    "#transformation into datetime object\n",
    "date_time_obj = datetime.datetime.strptime(lastMeasurementDate, '%Y-%m-%dT%H:%M:%S.%fZ')\n",
    "print(date_time_obj)"
   ]
  },
  {
   "cell_type": "code",
   "execution_count": 28,
   "metadata": {},
   "outputs": [
    {
     "data": {
      "text/plain": [
       "datetime.datetime"
      ]
     },
     "execution_count": 28,
     "metadata": {},
     "output_type": "execute_result"
    }
   ],
   "source": [
    "type(date_time_obj)"
   ]
  },
  {
   "cell_type": "code",
   "execution_count": 29,
   "metadata": {},
   "outputs": [
    {
     "name": "stdout",
     "output_type": "stream",
     "text": [
      "Last Measurement: when?  2020-05-25T10:02:57.293Z  what?  16.70°C\n"
     ]
    }
   ],
   "source": [
    "print(\"Last Measurement: when?  \" + lastMeasurementDate + \"  what?  \" + lastMeasurementValue + temp_sensor[\"unit\"])"
   ]
  },
  {
   "cell_type": "code",
   "execution_count": 30,
   "metadata": {},
   "outputs": [
    {
     "name": "stdout",
     "output_type": "stream",
     "text": [
      "Last Measurement: when?  2020-05-25 10:05:27.937000  what?  16.70°C\n",
      "Last Measurement: when?  2020-05-25 10:05:27.937000  what?  16.70°C\n",
      "Last Measurement: when?  2020-05-25 10:05:27.937000  what?  16.70°C\n",
      "Last Measurement: when?  2020-05-25 10:05:27.937000  what?  16.70°C\n",
      "Last Measurement: when?  2020-05-25 10:05:27.937000  what?  16.70°C\n",
      "Last Measurement: when?  2020-05-25 10:05:27.937000  what?  16.70°C\n",
      "Last Measurement: when?  2020-05-25 10:05:27.937000  what?  16.70°C\n",
      "Last Measurement: when?  2020-05-25 10:05:27.937000  what?  16.70°C\n",
      "Last Measurement: when?  2020-05-25 10:05:27.937000  what?  16.70°C\n",
      "Last Measurement: when?  2020-05-25 10:05:27.937000  what?  16.70°C\n"
     ]
    }
   ],
   "source": [
    "#combine everything with a loop e.g. while\n",
    "i = 0\n",
    "\n",
    "while i < 10:\n",
    "    \n",
    "    senseBoxId = \"5a99c5a8bc2d410019cb8261\"\n",
    "    url_general = \"https://api.opensensemap.org/boxes/\" + senseBoxId + \"?format=json\"\n",
    "    url_senseBox = url_general\n",
    "    static_data = requests.get(url_senseBox).text\n",
    "    full_data = json.loads(static_data)\n",
    "    all_sensors_in_box = full_data['sensors']\n",
    "    temp_sensor = all_sensors_in_box[2]\n",
    "    \n",
    "    lastMeasurementValue = temp_sensor[\"lastMeasurement\"][\"value\"]\n",
    "    lastMeasurementDate = temp_sensor[\"lastMeasurement\"][\"createdAt\"]\n",
    "    date_time = datetime.datetime.strptime(lastMeasurementDate, '%Y-%m-%dT%H:%M:%S.%fZ')\n",
    "    print(\"Last Measurement: when?  \" + str(date_time) + \"  what?  \" + lastMeasurementValue + temp_sensor[\"unit\"])\n",
    "    \n",
    "    i += 1\n",
    "    time.sleep(1)\n",
    "\n",
    "#stopp the laoding by interrupting the kernel"
   ]
  },
  {
   "cell_type": "code",
   "execution_count": 31,
   "metadata": {},
   "outputs": [
    {
     "name": "stdout",
     "output_type": "stream",
     "text": [
      "Last Measurement: when?  2020-05-25 10:05:27.937000  what?  16.70°C\n",
      "Last Measurement: when?  2020-05-25 10:05:27.937000  what?  16.70°C\n",
      "Last Measurement: when?  2020-05-25 10:05:27.937000  what?  16.70°C\n",
      "Last Measurement: when?  2020-05-25 10:05:27.937000  what?  16.70°C\n",
      "Last Measurement: when?  2020-05-25 10:05:27.937000  what?  16.70°C\n",
      "Last Measurement: when?  2020-05-25 10:05:27.937000  what?  16.70°C\n",
      "Error occured!\n",
      "Last Measurement: when?  2020-05-25 10:05:27.937000  what?  16.70°C\n",
      "Last Measurement: when?  2020-05-25 10:05:27.937000  what?  16.70°C\n",
      "Last Measurement: when?  2020-05-25 10:08:01.450000  what?  16.70°C\n"
     ]
    }
   ],
   "source": [
    "# if website goes down, make sure you considered some exeptions\n",
    "\n",
    "i = 0\n",
    "\n",
    "while i < 10:\n",
    "    try: \n",
    "        senseBoxId = \"5a99c5a8bc2d410019cb8261\"\n",
    "        url_general = \"https://api.opensensemap.org/boxes/\" + senseBoxId + \"?format=json\"\n",
    "        url_senseBox = url_general\n",
    "        static_data = requests.get(url_senseBox).text\n",
    "        full_data = json.loads(static_data)\n",
    "        all_sensors_in_box = full_data['sensors']\n",
    "        temp_sensor = all_sensors_in_box[2]\n",
    "\n",
    "        lastMeasurementValue = temp_sensor[\"lastMeasurement\"][\"value\"]\n",
    "        lastMeasurementDate = temp_sensor[\"lastMeasurement\"][\"createdAt\"]\n",
    "        date_time = datetime.datetime.strptime(lastMeasurementDate, '%Y-%m-%dT%H:%M:%S.%fZ')\n",
    "        print(\"Last Measurement: when?  \" + str(date_time) + \"  what?  \" + lastMeasurementValue + temp_sensor[\"unit\"])\n",
    "    \n",
    "    except:\n",
    "        print(\"Error occured!\")\n",
    "        \n",
    "    i += 1\n",
    "    time.sleep(1)     \n"
   ]
  },
  {
   "cell_type": "markdown",
   "metadata": {},
   "source": [
    "# Why using Kafka?"
   ]
  },
  {
   "cell_type": "markdown",
   "metadata": {},
   "source": [
    "1. ) You can see that the sensor is updating information only every 5 minutes. We don't want to see all these duplicates\n",
    "2. ) In case our server or machine has a problem, we want to achieve consistency our data\n",
    "4. ) We want a single data source of truth\n",
    "3. ) We want to use the data in different applications (e.g. jupyter notebooks) on different machines"
   ]
  },
  {
   "cell_type": "markdown",
   "metadata": {},
   "source": [
    "# Infrastructure"
   ]
  },
  {
   "cell_type": "markdown",
   "metadata": {},
   "source": [
    "### Check your operating system:\n",
    "\n",
    "- Linux OS / MacOS / Windows with docker-compose :\n",
    "    Please go to step 2.\n",
    "\n",
    "\n",
    "- Windows (oder ohne docker-compose auf der Host Maschine)\n",
    "    Please go to step 1.\n",
    " \n",
    "\n",
    " \n",
    "\n",
    "### Step 1:\n",
    "Check your infrastructure:\n",
    "1) You need Python:\n",
    "2) You need Anaconda: \n",
    "3) You need Docker: \n",
    "4) You need Platys:\n",
    "\n",
    "\n",
    "In case (that's normal) you need everything from scratch you need first a Virtual Machine on your Windows.\n",
    "With Platys & vagrant we give you a configuration that installs Python, Anaconda, Docker etc. for you automatically. \n",
    "\n",
    "Sounds good? \n",
    "\n",
    "First, \n",
    "go to https://www.vagrantup.com/downloads.html\n",
    "And download vagrant.\n",
    "\n",
    "\n",
    "Then,\n",
    "Go to the published Git Hub Repository (Guido Schmutz, our Trivadis expert for big data & especially kafka infrastructure)\n",
    "\n",
    "Open Link: https://github.com/TrivadisPF/platys/blob/develop/vagrant/Platys_with_Vagrant.md \n",
    "\n",
    "You find the needed vagrant file here: https://raw.githubusercontent.com/TrivadisPF/platys/1.5.0/vagrant/Vagrantfile\n",
    "\n",
    "And follow the steps there until you reached the secure connection to the VM from your Windows with \"vagrant ssh\".\n",
    "Starting from your windows-command panel to a \"vagrant@vagrant:\" shell.\n",
    "\n",
    "\n",
    " \n",
    "\n",
    "### Step 2:\n",
    "\n",
    "git clone https://github.com/gschmutz/kafka-workshop.git\n",
    "\n",
    "<font color=pink>\n",
    "\n",
    "cd kafka-workshop/\n",
    "\n",
    "cd 01-environment/\n",
    "\n",
    "cd docker/\n",
    "\n",
    "sudo docker-compose up -d\n",
    "\n",
    "</font>\n",
    " \n",
    "\n",
    " \n",
    "\n",
    "### Step 3:\n",
    "Check if the setup worked for you (panel of your VM):\n",
    "\n",
    "<font color=pink>\n",
    "sudo docker ps\n",
    "</font>\n",
    "\n",
    "Open the browser of your VM and type:\n",
    "http://localhost:28888/\n",
    "\n",
    "\n",
    "\n",
    "### Step 1 Try Out Kafka\n",
    " \n",
    "Start your VM/dockers\n",
    "\n",
    "Open up: https://github.com/gschmutz/kafka-workshop/tree/master/02-working-with-kafka-broker\n",
    "\n",
    "Try out simple creating of zookeepers and topics via your VM-panel:\n",
    "\n",
    "<font color=pink>\n",
    "\n",
    "sudo docker exec -ti kafka-1 bash\n",
    "\n",
    "\n",
    "kafka-topics --list --zookeeper zookeeper-1:2181\n",
    "\n",
    "\n",
    "kafka-topics --create \\\n",
    "                        --if-not-exists \\\n",
    "                        --zookeeper zookeeper-1:2181 \\\n",
    "                        --topic test-topic \\\n",
    "                        --partitions 6 \\\n",
    "                        --replication-factor 2\n",
    "\n",
    "\n",
    "kafka-topics --describe --zookeeper zookeeper-1:2181 --topic test-topic\n",
    "\n",
    " \n",
    "kafka-console-producer --broker-list kafka-1:19092,kafka-2:19093                        \n",
    "    \n",
    "--topic test-topic\n",
    "\n",
    "</font>\n",
    "    \n",
    "\n",
    "To visualize what you did if the command lines above you can use the following URLs:\n",
    "\n",
    "http://127.0.0.1:28141/ Kafka Topics UI\n",
    "\n",
    "\n",
    "http://127.0.0.1:28107/ AKHQ.IO\n",
    "\n",
    "\n",
    "http://127.0.0.1:28102/#/ SchemaRegsitry UI\n",
    "\n",
    "\n",
    "http://127.0.0.1:18630/ Streamsets --> user:password : admin:admin\n",
    "\n",
    " \n",
    "http://127.0.0.1:28888/ jupyter --> Token: abc123!\n"
   ]
  },
  {
   "cell_type": "markdown",
   "metadata": {},
   "source": [
    "Congratulation: YEEES THE NASTY THING IS DONE!!!\n",
    "You can switch to the next Jupyter Notebook :) :)! "
   ]
  },
  {
   "cell_type": "markdown",
   "metadata": {},
   "source": [
    "# Stopping Producer/Consumer \n",
    "Ctrl + C "
   ]
  },
  {
   "cell_type": "markdown",
   "metadata": {},
   "source": []
  }
 ],
 "metadata": {
  "kernelspec": {
   "display_name": "Python 3",
   "language": "python",
   "name": "python3"
  },
  "language_info": {
   "codemirror_mode": {
    "name": "ipython",
    "version": 3
   },
   "file_extension": ".py",
   "mimetype": "text/x-python",
   "name": "python",
   "nbconvert_exporter": "python",
   "pygments_lexer": "ipython3",
   "version": "3.7.6"
  }
 },
 "nbformat": 4,
 "nbformat_minor": 4
}
